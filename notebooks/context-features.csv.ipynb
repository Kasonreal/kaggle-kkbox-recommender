{
 "cells": [
  {
   "cell_type": "code",
   "execution_count": 3,
   "metadata": {},
   "outputs": [
    {
     "name": "stdout",
     "output_type": "stream",
     "text": [
      "Done\n"
     ]
    }
   ],
   "source": [
    "import pandas as pd\n",
    "import numpy as np\n",
    "print('Done')"
   ]
  },
  {
   "cell_type": "code",
   "execution_count": 8,
   "metadata": {},
   "outputs": [
    {
     "data": {
      "text/html": [
       "<div>\n",
       "<style>\n",
       "    .dataframe thead tr:only-child th {\n",
       "        text-align: right;\n",
       "    }\n",
       "\n",
       "    .dataframe thead th {\n",
       "        text-align: left;\n",
       "    }\n",
       "\n",
       "    .dataframe tbody tr th {\n",
       "        vertical-align: top;\n",
       "    }\n",
       "</style>\n",
       "<table border=\"1\" class=\"dataframe\">\n",
       "  <thead>\n",
       "    <tr style=\"text-align: right;\">\n",
       "      <th></th>\n",
       "      <th>source_system_tab</th>\n",
       "      <th>source_screen_name</th>\n",
       "      <th>source_type</th>\n",
       "      <th>target</th>\n",
       "    </tr>\n",
       "  </thead>\n",
       "  <tbody>\n",
       "    <tr>\n",
       "      <th>0</th>\n",
       "      <td>explore</td>\n",
       "      <td>Explore</td>\n",
       "      <td>online-playlist</td>\n",
       "      <td>1</td>\n",
       "    </tr>\n",
       "    <tr>\n",
       "      <th>1</th>\n",
       "      <td>my library</td>\n",
       "      <td>Local playlist more</td>\n",
       "      <td>local-playlist</td>\n",
       "      <td>1</td>\n",
       "    </tr>\n",
       "    <tr>\n",
       "      <th>2</th>\n",
       "      <td>my library</td>\n",
       "      <td>Local playlist more</td>\n",
       "      <td>local-playlist</td>\n",
       "      <td>1</td>\n",
       "    </tr>\n",
       "    <tr>\n",
       "      <th>3</th>\n",
       "      <td>my library</td>\n",
       "      <td>Local playlist more</td>\n",
       "      <td>local-playlist</td>\n",
       "      <td>1</td>\n",
       "    </tr>\n",
       "    <tr>\n",
       "      <th>4</th>\n",
       "      <td>explore</td>\n",
       "      <td>Explore</td>\n",
       "      <td>online-playlist</td>\n",
       "      <td>1</td>\n",
       "    </tr>\n",
       "  </tbody>\n",
       "</table>\n",
       "</div>"
      ],
      "text/plain": [
       "  source_system_tab   source_screen_name      source_type  target\n",
       "0           explore              Explore  online-playlist       1\n",
       "1        my library  Local playlist more   local-playlist       1\n",
       "2        my library  Local playlist more   local-playlist       1\n",
       "3        my library  Local playlist more   local-playlist       1\n",
       "4           explore              Explore  online-playlist       1"
      ]
     },
     "execution_count": 8,
     "metadata": {},
     "output_type": "execute_result"
    }
   ],
   "source": [
    "# Three context features: system tab, screen name, source type.\n",
    "# What do they tell you about the user-song interaction?\n",
    "TRN = pd.read_csv('../data/train.csv', usecols=['source_system_tab', 'source_screen_name', 'source_type', 'target'])\n",
    "TRN.head()"
   ]
  },
  {
   "cell_type": "code",
   "execution_count": 25,
   "metadata": {},
   "outputs": [
    {
     "name": "stdout",
     "output_type": "stream",
     "text": [
      "target               1                              1.000 3714656\n",
      "source_screen_name   Payment                        0.667 12\n",
      "source_type          local-playlist                 0.658 1079503\n",
      "source_screen_name   My library                     0.657 75980\n",
      "source_screen_name   Local playlist more            0.637 3228202\n",
      "source_type          local-library                  0.632 2261399\n",
      "source_system_tab    my library                     0.620 3684730\n",
      "source_screen_name   My library_Search              0.611 6451\n",
      "source_system_tab    settings                       0.591 2200\n",
      "source_type          artist                         0.573 3038\n",
      "source_screen_name   Discover Chart                 0.517 213658\n",
      "source_screen_name   Concert                        0.511 47\n",
      "source_type          topic-article-playlist         0.494 11194\n",
      "source_screen_name   Search                         0.472 298487\n",
      "source_screen_name   Discover New                   0.456 15955\n",
      "source_screen_name   Explore                        0.448 72342\n",
      "source_type          song                           0.437 244722\n",
      "source_system_tab    null                           0.434 6478\n",
      "source_type          online-playlist                0.425 1967924\n",
      "source_screen_name   Self profile more              0.425 212\n",
      "source_system_tab    explore                        0.422 167949\n",
      "source_system_tab    search                         0.421 623286\n",
      "source_type          top-hits-for-artist            0.419 423614\n",
      "source_screen_name   Artist more                    0.417 252429\n",
      "source_system_tab    discover                       0.416 2179252\n",
      "source_screen_name   Online playlist more           0.415 1294689\n",
      "source_type          album                          0.393 477344\n",
      "source_screen_name   Album more                     0.391 420156\n",
      "source_type          song-based-playlist            0.380 210527\n",
      "source_system_tab    notification                   0.378 6185\n",
      "source_screen_name   Search Trends                  0.377 13632\n",
      "source_type          my-daily-playlist              0.376 663\n",
      "source_screen_name   Discover Feature               0.364 244246\n",
      "source_screen_name   Search Home                    0.354 13482\n",
      "source_screen_name   Discover Genre                 0.348 82202\n",
      "source_screen_name   Unknown                        0.339 54170\n",
      "source_system_tab    listen with                    0.327 212266\n",
      "source_type          listen-with                    0.320 192842\n",
      "source_screen_name   Others profile more            0.313 201795\n",
      "source_system_tab    radio                          0.223 476701\n",
      "source_type          radio                          0.220 483109\n",
      "source_screen_name   Radio                          0.217 474467\n",
      "source_system_tab    nan                            0.000 0\n",
      "source_screen_name   nan                            0.000 0\n",
      "source_type          nan                            0.000 0\n",
      "target               0                              0.000 3662762\n"
     ]
    }
   ],
   "source": [
    "# Probability of likes for each feature value.\n",
    "probs = []\n",
    "for c in TRN.columns:\n",
    "    for v in TRN[c].unique():\n",
    "        df_ = TRN[TRN[c] == v]\n",
    "        probs.append((c, v, df_['target'].sum() / max(len(df_), 1e-7), len(df_)))\n",
    "\n",
    "probs = sorted(probs, key=lambda x: -x[-2])\n",
    "for c, v, p, n in probs:\n",
    "    print('%-20s %-30s %.3lf %d' % (c, v, p, n))"
   ]
  }
 ],
 "metadata": {
  "kernelspec": {
   "display_name": "Python 3",
   "language": "python",
   "name": "python3"
  },
  "language_info": {
   "codemirror_mode": {
    "name": "ipython",
    "version": 3
   },
   "file_extension": ".py",
   "mimetype": "text/x-python",
   "name": "python",
   "nbconvert_exporter": "python",
   "pygments_lexer": "ipython3",
   "version": "3.5.2"
  }
 },
 "nbformat": 4,
 "nbformat_minor": 2
}
