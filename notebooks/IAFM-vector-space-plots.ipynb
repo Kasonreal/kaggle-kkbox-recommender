{
 "cells": [
  {
   "cell_type": "code",
   "execution_count": 26,
   "metadata": {},
   "outputs": [
    {
     "name": "stdout",
     "output_type": "stream",
     "text": [
      "Done\n"
     ]
    }
   ],
   "source": [
    "import json\n",
    "import matplotlib.pyplot as plt\n",
    "import numpy as np\n",
    "import h5py\n",
    "from keras.models import load_model\n",
    "from sklearn.manifold import TSNE\n",
    "from sklearn.metrics.pairwise import cosine_similarity\n",
    "import pdb\n",
    "\n",
    "print('Done')"
   ]
  },
  {
   "cell_type": "code",
   "execution_count": 27,
   "metadata": {},
   "outputs": [
    {
     "name": "stdout",
     "output_type": "stream",
     "text": [
      "(587072, 30)\n"
     ]
    }
   ],
   "source": [
    "p = '../iafm.hdf5'\n",
    "f = h5py.File(p, 'r')\n",
    "V = f.get('vecs/vecs/embeddings:0')[...]\n",
    "f.close()\n",
    "print(V.shape)"
   ]
  },
  {
   "cell_type": "code",
   "execution_count": 35,
   "metadata": {},
   "outputs": [],
   "source": [
    "with open('../vi2feat.json', 'r') as fp:\n",
    "    vi2feat = {int(k):v for k,v in json.load(fp).items()}\n",
    "with open('../feat2vi.json', 'r') as fp:\n",
    "    feat2vi = json.load(fp)"
   ]
  },
  {
   "cell_type": "code",
   "execution_count": 38,
   "metadata": {},
   "outputs": [
    {
     "name": "stdout",
     "output_type": "stream",
     "text": [
      "u-id::JuGeuEzaLWA83iHY9L0Q9Z1h22NQ3K+fOe773hyF/T0=\n",
      "u-id::1vitxVOsMbztHDl/yxP+xGYAIeSiIrh0z4Wvvkme3R0=\n",
      "u-id::fVZedYe9G51wW8jy3Ws7FuF5IKx7zxQYWvPAfCdIRJE=\n",
      "u-id::bfWIGoHJFKMkGD3HEmmYAkIAjNycFftH9ZR9Lsu1qK0=\n",
      "u-id::t+NXmP/gGYkD/So/Xd9jgkaR8tr0UQYrh5juOgKC6RQ=\n",
      "u-id::6Cm2A0psQVGzAFoAbDk4FHbg/UaDTZGeQmIdSzDuECU=\n",
      "u-id::22fdpf97nmZ2Z08mAkuglp7ok/RX0Hf3ppyXtFL5ijw=\n",
      "u-id::pZFNm5mDCLyr8uPAz3ScacFnUWzQLoxnDSTKv0PzCGY=\n",
      "u-id::L5r3j3U8mtQrvKgKCA6ZDmgrk6BCNJtnGdkKzKd4sFY=\n",
      "u-id::snpfH/IMneXk49g55Axsrd6Z7eTECr+bT8sh1X2VMxk=\n"
     ]
    }
   ],
   "source": [
    "VI_users = [vi for f,vi in feat2vi.items() if f.startswith('u-id::') and max(abs(V[vi])) > 0.]\n",
    "for vi in VI_users[:10]:\n",
    "    print(vi2feat[vi])"
   ]
  },
  {
   "cell_type": "code",
   "execution_count": null,
   "metadata": {},
   "outputs": [
    {
     "name": "stdout",
     "output_type": "stream",
     "text": [
      "[t-SNE] Computing 121 nearest neighbors...\n",
      "[t-SNE] Indexed 28026 samples in 0.160s...\n"
     ]
    }
   ],
   "source": [
    "tsne = TSNE(perplexity=40, n_components=2, init='pca', n_iter=2500, random_state=23, verbose=1)\n",
    "V2D = tsne.fit_transform(V[VI])\n",
    "plt.scatter(V2D[:,0], V2D[:,1])\n",
    "plt.show()"
   ]
  },
  {
   "cell_type": "code",
   "execution_count": null,
   "metadata": {},
   "outputs": [],
   "source": []
  }
 ],
 "metadata": {
  "kernelspec": {
   "display_name": "Python 3",
   "language": "python",
   "name": "python3"
  },
  "language_info": {
   "codemirror_mode": {
    "name": "ipython",
    "version": 3
   },
   "file_extension": ".py",
   "mimetype": "text/x-python",
   "name": "python",
   "nbconvert_exporter": "python",
   "pygments_lexer": "ipython3",
   "version": "3.5.2"
  }
 },
 "nbformat": 4,
 "nbformat_minor": 2
}
